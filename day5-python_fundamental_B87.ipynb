{
 "cells": [
  {
   "cell_type": "code",
   "execution_count": null,
   "id": "5ab5619f-7692-40ff-9beb-fcde59dc0889",
   "metadata": {},
   "outputs": [],
   "source": [
    "Introduction to looping statements:"
   ]
  },
  {
   "cell_type": "code",
   "execution_count": null,
   "id": "30032884-5e0c-4c9c-8b6d-fcdec1784a4c",
   "metadata": {},
   "outputs": [],
   "source": [
    "Understanding the concept of for loop:"
   ]
  },
  {
   "cell_type": "code",
   "execution_count": 1,
   "id": "bbe3fa8b-9d0f-42c2-ba35-c4429f4b8b6a",
   "metadata": {},
   "outputs": [],
   "source": [
    "students = ['naveen','amir','uday','sameer','anusha','bushra']"
   ]
  },
  {
   "cell_type": "code",
   "execution_count": 3,
   "id": "93240642-c0f0-4afe-95d8-25d106f97461",
   "metadata": {},
   "outputs": [
    {
     "name": "stdout",
     "output_type": "stream",
     "text": [
      "['naveen', 'amir', 'uday', 'sameer', 'anusha', 'bushra']\n"
     ]
    }
   ],
   "source": [
    "print(students)"
   ]
  },
  {
   "cell_type": "code",
   "execution_count": 5,
   "id": "e42dd0b5-6fd4-4c0f-b797-fd9198e5761b",
   "metadata": {},
   "outputs": [
    {
     "data": {
      "text/plain": [
       "list"
      ]
     },
     "execution_count": 5,
     "metadata": {},
     "output_type": "execute_result"
    }
   ],
   "source": [
    "type(students)"
   ]
  },
  {
   "cell_type": "code",
   "execution_count": 7,
   "id": "80525565-1c3f-477f-ab5f-4d4dfccedc54",
   "metadata": {},
   "outputs": [],
   "source": [
    "#req: I want to appreciate the list of students mentioned above"
   ]
  },
  {
   "cell_type": "code",
   "execution_count": 11,
   "id": "e05f1074-5793-4743-a411-4737481deff9",
   "metadata": {},
   "outputs": [
    {
     "name": "stdout",
     "output_type": "stream",
     "text": [
      "keep up the good work, Naveen\n"
     ]
    }
   ],
   "source": [
    "print(f\"keep up the good work, {students[0].title()}\")"
   ]
  },
  {
   "cell_type": "code",
   "execution_count": 13,
   "id": "de604a30-22d7-4ffc-90c8-a23c858ef67e",
   "metadata": {},
   "outputs": [],
   "source": [
    "#req: amir"
   ]
  },
  {
   "cell_type": "code",
   "execution_count": 15,
   "id": "0fde99ec-b535-4e6b-8e3e-17bd127eb67c",
   "metadata": {},
   "outputs": [
    {
     "name": "stdout",
     "output_type": "stream",
     "text": [
      "keep up the good work, Amir\n"
     ]
    }
   ],
   "source": [
    "print(f\"keep up the good work, {students[1].title()}\")"
   ]
  },
  {
   "cell_type": "code",
   "execution_count": null,
   "id": "50d79f0e-b9c9-447a-9743-09d2123749db",
   "metadata": {},
   "outputs": [],
   "source": [
    "# general syntax of for loop:"
   ]
  },
  {
   "cell_type": "code",
   "execution_count": 33,
   "id": "5c1b9af0-44f9-4059-b897-8843068eff47",
   "metadata": {},
   "outputs": [
    {
     "ename": "NameError",
     "evalue": "name 'mainvar' is not defined",
     "output_type": "error",
     "traceback": [
      "\u001b[1;31m---------------------------------------------------------------------------\u001b[0m",
      "\u001b[1;31mNameError\u001b[0m                                 Traceback (most recent call last)",
      "Cell \u001b[1;32mIn[33], line 1\u001b[0m\n\u001b[1;32m----> 1\u001b[0m \u001b[38;5;28;01mfor\u001b[39;00m tempvar \u001b[38;5;129;01min\u001b[39;00m mainvar:\n\u001b[0;32m      2\u001b[0m     \u001b[38;5;28mprint\u001b[39m(tempvar)\n",
      "\u001b[1;31mNameError\u001b[0m: name 'mainvar' is not defined"
     ]
    }
   ],
   "source": [
    "for tempvar in mainvar:\n",
    "    print(tempvar)"
   ]
  },
  {
   "cell_type": "code",
   "execution_count": null,
   "id": "d2c47f5b-73ac-4a51-88c1-9ceeb468b67b",
   "metadata": {},
   "outputs": [],
   "source": []
  },
  {
   "cell_type": "code",
   "execution_count": null,
   "id": "6050c6c6-0e62-448f-a0eb-ac41898e4097",
   "metadata": {},
   "outputs": [],
   "source": []
  },
  {
   "cell_type": "code",
   "execution_count": 17,
   "id": "1f9b1b4e-71aa-40a6-8dfc-3df880ab62f9",
   "metadata": {},
   "outputs": [],
   "source": [
    "#enhancement "
   ]
  },
  {
   "cell_type": "code",
   "execution_count": 19,
   "id": "b67ad619-afe9-482a-9e11-c982ffc8013b",
   "metadata": {},
   "outputs": [
    {
     "ename": "NameError",
     "evalue": "name 'mainvar' is not defined",
     "output_type": "error",
     "traceback": [
      "\u001b[1;31m---------------------------------------------------------------------------\u001b[0m",
      "\u001b[1;31mNameError\u001b[0m                                 Traceback (most recent call last)",
      "Cell \u001b[1;32mIn[19], line 1\u001b[0m\n\u001b[1;32m----> 1\u001b[0m \u001b[38;5;28;01mfor\u001b[39;00m tempvar \u001b[38;5;129;01min\u001b[39;00m mainvar: \u001b[38;5;66;03m#indentation\u001b[39;00m\n\u001b[0;32m      2\u001b[0m     \u001b[38;5;28mprint\u001b[39m(tempvar)\n",
      "\u001b[1;31mNameError\u001b[0m: name 'mainvar' is not defined"
     ]
    }
   ],
   "source": [
    "for tempvar in mainvar: #indentation\n",
    "    print(tempvar)"
   ]
  },
  {
   "cell_type": "code",
   "execution_count": 21,
   "id": "ead99009-7267-4674-a8d4-45bce011d671",
   "metadata": {},
   "outputs": [
    {
     "name": "stdout",
     "output_type": "stream",
     "text": [
      "naveen\n",
      "amir\n",
      "uday\n",
      "sameer\n",
      "anusha\n",
      "bushra\n"
     ]
    }
   ],
   "source": [
    "for ironman in students:\n",
    "    print(ironman)"
   ]
  },
  {
   "cell_type": "code",
   "execution_count": 25,
   "id": "01e65aee-340e-4f36-b9e3-d6ec009a063b",
   "metadata": {},
   "outputs": [
    {
     "name": "stdout",
     "output_type": "stream",
     "text": [
      "keep up the good work, Naveen\n",
      "do submit your work for today without fail, Naveen\n",
      "\n",
      "keep up the good work, Amir\n",
      "do submit your work for today without fail, Amir\n",
      "\n",
      "keep up the good work, Uday\n",
      "do submit your work for today without fail, Uday\n",
      "\n",
      "keep up the good work, Sameer\n",
      "do submit your work for today without fail, Sameer\n",
      "\n",
      "keep up the good work, Anusha\n",
      "do submit your work for today without fail, Anusha\n",
      "\n",
      "keep up the good work, Bushra\n",
      "do submit your work for today without fail, Bushra\n",
      "\n"
     ]
    }
   ],
   "source": [
    "for x in students:\n",
    "    print(f\"keep up the good work, {x.title()}\") # writing in the loop---> it will be applied to all the elements in the list\n",
    "    print(f\"do submit your work for today without fail, {x.title()}\\n\") # writing in the loop\n"
   ]
  },
  {
   "cell_type": "code",
   "execution_count": null,
   "id": "47b09547-3fc2-4f49-89d4-fb302785b25e",
   "metadata": {},
   "outputs": [],
   "source": []
  }
 ],
 "metadata": {
  "kernelspec": {
   "display_name": "Python 3 (ipykernel)",
   "language": "python",
   "name": "python3"
  },
  "language_info": {
   "codemirror_mode": {
    "name": "ipython",
    "version": 3
   },
   "file_extension": ".py",
   "mimetype": "text/x-python",
   "name": "python",
   "nbconvert_exporter": "python",
   "pygments_lexer": "ipython3",
   "version": "3.12.4"
  }
 },
 "nbformat": 4,
 "nbformat_minor": 5
}
