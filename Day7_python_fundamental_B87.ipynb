{
 "cells": [
  {
   "cell_type": "code",
   "execution_count": null,
   "id": "71ff6eb2-0ef1-47d6-9228-2bf65f290278",
   "metadata": {},
   "outputs": [],
   "source": [
    "Īntroduction to tuple datatype:"
   ]
  },
  {
   "cell_type": "code",
   "execution_count": null,
   "id": "0b9c003f-89c9-487b-9642-41faf445cb11",
   "metadata": {},
   "outputs": [],
   "source": [
    "Definition: An immutable list is called as tuple"
   ]
  },
  {
   "cell_type": "code",
   "execution_count": null,
   "id": "a2f9961d-08ee-4016-8a3d-2ffd9b74cd62",
   "metadata": {},
   "outputs": [],
   "source": [
    "Classification: It is classified as immutable datatype"
   ]
  },
  {
   "cell_type": "code",
   "execution_count": null,
   "id": "2758f578-78b7-479d-9b8e-c8ad465dc7b4",
   "metadata": {},
   "outputs": [],
   "source": [
    "how to define the tuple dataype?"
   ]
  },
  {
   "cell_type": "code",
   "execution_count": 1,
   "id": "1d0eeffb-1c4c-4a11-8361-b518403b289b",
   "metadata": {},
   "outputs": [],
   "source": [
    "dimensions = (100,150)"
   ]
  },
  {
   "cell_type": "code",
   "execution_count": 3,
   "id": "0892932b-4819-4ee2-84fd-eba9712b26fc",
   "metadata": {},
   "outputs": [
    {
     "name": "stdout",
     "output_type": "stream",
     "text": [
      "(100, 150)\n"
     ]
    }
   ],
   "source": [
    "print(dimensions)"
   ]
  },
  {
   "cell_type": "code",
   "execution_count": 5,
   "id": "c7c476a1-abc6-4f01-bf13-3701ca7273f6",
   "metadata": {},
   "outputs": [
    {
     "data": {
      "text/plain": [
       "tuple"
      ]
     },
     "execution_count": 5,
     "metadata": {},
     "output_type": "execute_result"
    }
   ],
   "source": [
    "type(dimensions)"
   ]
  },
  {
   "cell_type": "code",
   "execution_count": null,
   "id": "bdd4c0d7-524d-4872-a817-2e314f88976b",
   "metadata": {},
   "outputs": [],
   "source": [
    "#req: I want to change 100,...200"
   ]
  },
  {
   "cell_type": "code",
   "execution_count": 9,
   "id": "db5b094f-f33d-4187-a6f2-f60c43fb17e0",
   "metadata": {},
   "outputs": [
    {
     "ename": "TypeError",
     "evalue": "'tuple' object does not support item assignment",
     "output_type": "error",
     "traceback": [
      "\u001b[1;31m---------------------------------------------------------------------------\u001b[0m",
      "\u001b[1;31mTypeError\u001b[0m                                 Traceback (most recent call last)",
      "Cell \u001b[1;32mIn[9], line 1\u001b[0m\n\u001b[1;32m----> 1\u001b[0m dimensions[\u001b[38;5;241m0\u001b[39m] \u001b[38;5;241m=\u001b[39m \u001b[38;5;241m200\u001b[39m\n",
      "\u001b[1;31mTypeError\u001b[0m: 'tuple' object does not support item assignment"
     ]
    }
   ],
   "source": [
    "dimensions[0] = 200"
   ]
  },
  {
   "cell_type": "code",
   "execution_count": 11,
   "id": "4b75b986-04b6-41aa-b61c-dca1b715a0d6",
   "metadata": {},
   "outputs": [],
   "source": [
    "students = ('naveen','vaideki','parveen','sushma')"
   ]
  },
  {
   "cell_type": "code",
   "execution_count": 13,
   "id": "82020583-ff88-4c57-9d4e-cc50dde6090e",
   "metadata": {},
   "outputs": [
    {
     "data": {
      "text/plain": [
       "tuple"
      ]
     },
     "execution_count": 13,
     "metadata": {},
     "output_type": "execute_result"
    }
   ],
   "source": [
    "type(students)"
   ]
  },
  {
   "cell_type": "code",
   "execution_count": 15,
   "id": "d2df8630-5f86-43f9-94ab-5dbe6cd294ef",
   "metadata": {},
   "outputs": [
    {
     "name": "stdout",
     "output_type": "stream",
     "text": [
      "naveen\n",
      "vaideki\n",
      "parveen\n",
      "sushma\n"
     ]
    }
   ],
   "source": [
    "for x in students:\n",
    "    print(x)"
   ]
  },
  {
   "cell_type": "code",
   "execution_count": null,
   "id": "100f8422-4bd8-44b9-a89b-1a69b2a44f9a",
   "metadata": {},
   "outputs": [],
   "source": [
    "Introduction to dictionaries:"
   ]
  },
  {
   "cell_type": "code",
   "execution_count": null,
   "id": "62a7d80b-ab16-406b-b0f2-328b6c7b9323",
   "metadata": {},
   "outputs": [],
   "source": [
    "Definition: A dict is a combination of key value pairs"
   ]
  },
  {
   "cell_type": "code",
   "execution_count": 17,
   "id": "4f0e6a6f-fd5e-4c35-ac8c-e9e16bc62825",
   "metadata": {},
   "outputs": [
    {
     "ename": "SyntaxError",
     "evalue": "invalid syntax (3440521468.py, line 1)",
     "output_type": "error",
     "traceback": [
      "\u001b[1;36m  Cell \u001b[1;32mIn[17], line 1\u001b[1;36m\u001b[0m\n\u001b[1;33m    Clasiification: It is classified as a mutable datatype\u001b[0m\n\u001b[1;37m                                     ^\u001b[0m\n\u001b[1;31mSyntaxError\u001b[0m\u001b[1;31m:\u001b[0m invalid syntax\n"
     ]
    }
   ],
   "source": [
    "Clasiification: It is classified as a mutable datatype"
   ]
  },
  {
   "cell_type": "code",
   "execution_count": null,
   "id": "44ec3cb2-8af8-4a1e-800e-2d956070b430",
   "metadata": {},
   "outputs": [],
   "source": [
    "how to define the dictionary: {}"
   ]
  },
  {
   "cell_type": "code",
   "execution_count": null,
   "id": "096df5a2-c22c-4a81-ba58-f89cf0a699e6",
   "metadata": {},
   "outputs": [],
   "source": [
    "#req: I want to create a alien game"
   ]
  },
  {
   "cell_type": "code",
   "execution_count": 23,
   "id": "035073ed-b13c-43ae-9843-5bb74c103c6a",
   "metadata": {},
   "outputs": [],
   "source": [
    "alien = {'color':'green','points':10}"
   ]
  },
  {
   "cell_type": "code",
   "execution_count": 25,
   "id": "60ebe5fe-3767-4339-9596-aa7e326f42eb",
   "metadata": {},
   "outputs": [
    {
     "name": "stdout",
     "output_type": "stream",
     "text": [
      "{'color': 'green', 'points': 10}\n"
     ]
    }
   ],
   "source": [
    "print(alien)"
   ]
  },
  {
   "cell_type": "code",
   "execution_count": 29,
   "id": "5dea49c5-3d72-481c-b4d7-ce4671fc0b0c",
   "metadata": {},
   "outputs": [
    {
     "data": {
      "text/plain": [
       "dict"
      ]
     },
     "execution_count": 29,
     "metadata": {},
     "output_type": "execute_result"
    }
   ],
   "source": [
    "type(alien)"
   ]
  },
  {
   "cell_type": "code",
   "execution_count": null,
   "id": "3dc10641-b71f-4b0c-8eda-13a16cb6b07a",
   "metadata": {},
   "outputs": [],
   "source": [
    "#req: How to add a new key value pairs to the dictionaly?"
   ]
  },
  {
   "cell_type": "code",
   "execution_count": 31,
   "id": "4eafa95a-4c4b-4feb-b312-c8b3f549150a",
   "metadata": {},
   "outputs": [],
   "source": [
    "# start_position : level0"
   ]
  },
  {
   "cell_type": "code",
   "execution_count": 33,
   "id": "e026ee06-4d26-49d6-8633-33d51b9dd2ce",
   "metadata": {},
   "outputs": [],
   "source": [
    "alien ['start_position'] = 'level0'"
   ]
  },
  {
   "cell_type": "code",
   "execution_count": 35,
   "id": "a358b553-69bc-4a35-a8c7-f96c1af7c892",
   "metadata": {},
   "outputs": [
    {
     "name": "stdout",
     "output_type": "stream",
     "text": [
      "{'color': 'green', 'points': 10, 'start_position': 'level0'}\n"
     ]
    }
   ],
   "source": [
    "print(alien)"
   ]
  },
  {
   "cell_type": "code",
   "execution_count": 37,
   "id": "f26a332f-45cf-458b-8f06-0e7abb2449b5",
   "metadata": {},
   "outputs": [
    {
     "ename": "SyntaxError",
     "evalue": "invalid syntax (2153572592.py, line 1)",
     "output_type": "error",
     "traceback": [
      "\u001b[1;36m  Cell \u001b[1;32mIn[37], line 1\u001b[1;36m\u001b[0m\n\u001b[1;33m    Note: Keys will be acting as a index point in the dictionary\u001b[0m\n\u001b[1;37m               ^\u001b[0m\n\u001b[1;31mSyntaxError\u001b[0m\u001b[1;31m:\u001b[0m invalid syntax\n"
     ]
    }
   ],
   "source": [
    "Note: Keys will be acting as a index point in the dictionary"
   ]
  },
  {
   "cell_type": "code",
   "execution_count": 39,
   "id": "3949a5e6-711e-499d-9a87-bc0adbf7ba9e",
   "metadata": {},
   "outputs": [],
   "source": [
    "#req: I want to add current_possition : level-1"
   ]
  },
  {
   "cell_type": "code",
   "execution_count": 45,
   "id": "f53c250a-d0cd-47f3-9371-38a742b1a31d",
   "metadata": {},
   "outputs": [],
   "source": [
    "alien ['current_position'] = 'level-1'"
   ]
  },
  {
   "cell_type": "code",
   "execution_count": 47,
   "id": "6f4927a1-120c-4c90-9d5a-8a10ac34b1c9",
   "metadata": {},
   "outputs": [
    {
     "name": "stdout",
     "output_type": "stream",
     "text": [
      "{'color': 'green', 'points': 10, 'start_position': 'level0', 'current_position': 'level-1'}\n"
     ]
    }
   ],
   "source": [
    "print(alien)"
   ]
  },
  {
   "cell_type": "code",
   "execution_count": 49,
   "id": "db202c20-7d3c-4212-b6b9-4b3ea5ed5438",
   "metadata": {},
   "outputs": [],
   "source": [
    "#req: How to access the value from the dictionary"
   ]
  },
  {
   "cell_type": "code",
   "execution_count": 51,
   "id": "ac718b1a-c0e1-4982-808a-237f5729682c",
   "metadata": {},
   "outputs": [
    {
     "data": {
      "text/plain": [
       "10"
      ]
     },
     "execution_count": 51,
     "metadata": {},
     "output_type": "execute_result"
    }
   ],
   "source": [
    "alien['points']"
   ]
  },
  {
   "cell_type": "code",
   "execution_count": null,
   "id": "fc625803-4d55-40f4-bb01-f6532729649c",
   "metadata": {},
   "outputs": [],
   "source": [
    "Note: Give the key and get the value"
   ]
  },
  {
   "cell_type": "code",
   "execution_count": 53,
   "id": "6f2b976f-5763-41ba-ba88-c2ddffe3dfb1",
   "metadata": {},
   "outputs": [],
   "source": [
    "#Can we get the key by given value...?"
   ]
  },
  {
   "cell_type": "code",
   "execution_count": 55,
   "id": "5e24f143-3928-4342-8866-bd61bdc977e3",
   "metadata": {},
   "outputs": [
    {
     "ename": "KeyError",
     "evalue": "'green'",
     "output_type": "error",
     "traceback": [
      "\u001b[1;31m---------------------------------------------------------------------------\u001b[0m",
      "\u001b[1;31mKeyError\u001b[0m                                  Traceback (most recent call last)",
      "Cell \u001b[1;32mIn[55], line 1\u001b[0m\n\u001b[1;32m----> 1\u001b[0m alien[\u001b[38;5;124m'\u001b[39m\u001b[38;5;124mgreen\u001b[39m\u001b[38;5;124m'\u001b[39m]\n",
      "\u001b[1;31mKeyError\u001b[0m: 'green'"
     ]
    }
   ],
   "source": [
    "alien['green']"
   ]
  },
  {
   "cell_type": "code",
   "execution_count": null,
   "id": "55020cc8-fb3d-4d51-b7b5-2bbcb2855fcc",
   "metadata": {},
   "outputs": [],
   "source": [
    "Implementation of for loops on the dictionary"
   ]
  },
  {
   "cell_type": "code",
   "execution_count": 57,
   "id": "ee4ab8cd-fad6-430a-848a-23dff4c90382",
   "metadata": {},
   "outputs": [],
   "source": [
    "#General Syntax:"
   ]
  },
  {
   "cell_type": "code",
   "execution_count": 59,
   "id": "97dbe20d-603f-4aed-bb2d-ab0907191662",
   "metadata": {
    "scrolled": true
   },
   "outputs": [
    {
     "ename": "NameError",
     "evalue": "name 'mainvar' is not defined",
     "output_type": "error",
     "traceback": [
      "\u001b[1;31m---------------------------------------------------------------------------\u001b[0m",
      "\u001b[1;31mNameError\u001b[0m                                 Traceback (most recent call last)",
      "Cell \u001b[1;32mIn[59], line 1\u001b[0m\n\u001b[1;32m----> 1\u001b[0m \u001b[38;5;28;01mfor\u001b[39;00m tempvar1,tempvar2 \u001b[38;5;129;01min\u001b[39;00m mainvar\u001b[38;5;241m.\u001b[39mitems():\n\u001b[0;32m      2\u001b[0m     \u001b[38;5;28mprint\u001b[39m(tempvar1)\n\u001b[0;32m      3\u001b[0m     \u001b[38;5;28mprint\u001b[39m(tempvar2)\n",
      "\u001b[1;31mNameError\u001b[0m: name 'mainvar' is not defined"
     ]
    }
   ],
   "source": [
    "for tempvar1,tempvar2 in mainvar.items():\n",
    "    print(tempvar1)\n",
    "    print(tempvar2)"
   ]
  },
  {
   "cell_type": "code",
   "execution_count": 61,
   "id": "9ee18b72-56ee-4de2-ac66-5b19e9bd5dd6",
   "metadata": {},
   "outputs": [
    {
     "name": "stdout",
     "output_type": "stream",
     "text": [
      "{'color': 'green', 'points': 10, 'start_position': 'level0', 'current_position': 'level-1'}\n"
     ]
    }
   ],
   "source": [
    "print(alien)"
   ]
  },
  {
   "cell_type": "code",
   "execution_count": 63,
   "id": "1c353bea-8641-4438-a833-fe540e4a8e08",
   "metadata": {},
   "outputs": [
    {
     "name": "stdout",
     "output_type": "stream",
     "text": [
      "color\n",
      "green\n",
      "points\n",
      "10\n",
      "start_position\n",
      "level0\n",
      "current_position\n",
      "level-1\n"
     ]
    }
   ],
   "source": [
    "for k,v in alien.items():\n",
    "    print(k)\n",
    "    print(v)"
   ]
  },
  {
   "cell_type": "code",
   "execution_count": null,
   "id": "3b13c903-05c4-48fb-aeb2-692c43c29435",
   "metadata": {},
   "outputs": [],
   "source": []
  }
 ],
 "metadata": {
  "kernelspec": {
   "display_name": "Python 3 (ipykernel)",
   "language": "python",
   "name": "python3"
  },
  "language_info": {
   "codemirror_mode": {
    "name": "ipython",
    "version": 3
   },
   "file_extension": ".py",
   "mimetype": "text/x-python",
   "name": "python",
   "nbconvert_exporter": "python",
   "pygments_lexer": "ipython3",
   "version": "3.12.4"
  }
 },
 "nbformat": 4,
 "nbformat_minor": 5
}
