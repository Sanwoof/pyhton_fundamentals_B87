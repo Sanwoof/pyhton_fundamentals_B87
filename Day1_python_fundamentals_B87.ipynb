{
 "cells": [
  {
   "cell_type": "code",
   "execution_count": 1,
   "id": "1289f8dd-dd2f-4570-8ef3-b15b9493d1ae",
   "metadata": {},
   "outputs": [
    {
     "ename": "SyntaxError",
     "evalue": "invalid syntax (4123384836.py, line 1)",
     "output_type": "error",
     "traceback": [
      "\u001b[1;36m  Cell \u001b[1;32mIn[1], line 1\u001b[1;36m\u001b[0m\n\u001b[1;33m    Introduction to datatypes:\u001b[0m\n\u001b[1;37m                 ^\u001b[0m\n\u001b[1;31mSyntaxError\u001b[0m\u001b[1;31m:\u001b[0m invalid syntax\n"
     ]
    }
   ],
   "source": [
    "Introduction to datatypes:\n",
    "\n",
    "strings ==> str\n",
    "Numbers ==> integers (int) and floats (decimal) 0.1,0.2,1.5\n",
    "List ==> list\n",
    "Tuples ==> tuple\n",
    "Dictionaries ==> dict"
   ]
  },
  {
   "cell_type": "code",
   "execution_count": 3,
   "id": "21eae383-2b27-4e89-be2e-bcff9f783c5c",
   "metadata": {},
   "outputs": [
    {
     "ename": "SyntaxError",
     "evalue": "invalid syntax (3181813166.py, line 1)",
     "output_type": "error",
     "traceback": [
      "\u001b[1;36m  Cell \u001b[1;32mIn[3], line 1\u001b[1;36m\u001b[0m\n\u001b[1;33m    Classification of datatypes:\u001b[0m\n\u001b[1;37m                   ^\u001b[0m\n\u001b[1;31mSyntaxError\u001b[0m\u001b[1;31m:\u001b[0m invalid syntax\n"
     ]
    }
   ],
   "source": [
    "#Classification of datatypes:\n",
    "Broadly datatypes are classified into 2 categories:\n",
    "\n",
    "1. mutable datatypes ==> which we can edit/alter ==> flexible.\n",
    "\n",
    "2. immutable datatypes ==>which we cannot edit/alter ==> fixed in nature.\n",
    "\n",
    "Note: Python is a case-sensitive programming language.\n"
   ]
  },
  {
   "cell_type": "code",
   "execution_count": 5,
   "id": "6668086a-3f7c-4feb-b24b-1e7f538fc4f7",
   "metadata": {},
   "outputs": [
    {
     "ename": "SyntaxError",
     "evalue": "invalid syntax (536012942.py, line 1)",
     "output_type": "error",
     "traceback": [
      "\u001b[1;36m  Cell \u001b[1;32mIn[5], line 1\u001b[1;36m\u001b[0m\n\u001b[1;33m    Introductionto string datatype:\u001b[0m\n\u001b[1;37m                   ^\u001b[0m\n\u001b[1;31mSyntaxError\u001b[0m\u001b[1;31m:\u001b[0m invalid syntax\n"
     ]
    }
   ],
   "source": [
    "Introduction to string datatype:\n",
    "Definition: A string is a series of characters declared in quotes.\n",
    "Classification: It is classified as an immutable datatype.\n",
    "\n",
    "How to declare the string datatypes?\n",
    "\n",
    "1. single quote => ' '\n",
    "2. double quote => \" \""
   ]
  },
  {
   "cell_type": "code",
   "execution_count": 9,
   "id": "e00639db-a574-452c-875b-f1566b0fd771",
   "metadata": {},
   "outputs": [
    {
     "name": "stdout",
     "output_type": "stream",
     "text": [
      "raju\n"
     ]
    }
   ],
   "source": [
    "name = 'raju'   # single quote\n",
    "\n",
    "print(name)"
   ]
  },
  {
   "cell_type": "code",
   "execution_count": 11,
   "id": "cf410979-9d63-4fe3-85ed-58ed0c3f1c41",
   "metadata": {},
   "outputs": [
    {
     "name": "stdout",
     "output_type": "stream",
     "text": [
      "joseph\n"
     ]
    }
   ],
   "source": [
    "name2 = \"joseph\"  # double quote\n",
    "print(name2)"
   ]
  },
  {
   "cell_type": "code",
   "execution_count": null,
   "id": "b0c6c09e-1efe-48a4-a0d2-f5744af8a5ab",
   "metadata": {},
   "outputs": [],
   "source": [
    "Introduction to string method:"
   ]
  },
  {
   "cell_type": "code",
   "execution_count": 13,
   "id": "a122f63b-f87c-406b-8ec2-8301fd96b8c9",
   "metadata": {},
   "outputs": [
    {
     "data": {
      "text/plain": [
       "str"
      ]
     },
     "execution_count": 13,
     "metadata": {},
     "output_type": "execute_result"
    }
   ],
   "source": [
    "type(name)"
   ]
  },
  {
   "cell_type": "code",
   "execution_count": 15,
   "id": "50b3c7d0-b7af-4f38-a266-fc9e10c30994",
   "metadata": {},
   "outputs": [
    {
     "data": {
      "text/plain": [
       "str"
      ]
     },
     "execution_count": 15,
     "metadata": {},
     "output_type": "execute_result"
    }
   ],
   "source": [
    "type(name2)"
   ]
  },
  {
   "cell_type": "code",
   "execution_count": null,
   "id": "6cd82cc4-3832-4703-9e54-0cbc0fff2087",
   "metadata": {},
   "outputs": [],
   "source": [
    "It gives us the tyoes methods used to verify and validate the datatype or what kind of datatype it is?"
   ]
  },
  {
   "cell_type": "code",
   "execution_count": 17,
   "id": "ddfbfd20-eff2-4627-b871-ce8ab80f0215",
   "metadata": {},
   "outputs": [],
   "source": [
    "fullname = 'ashwin raj'"
   ]
  },
  {
   "cell_type": "code",
   "execution_count": 19,
   "id": "84c6a998-82e5-4a82-9666-02ebbada6c08",
   "metadata": {},
   "outputs": [
    {
     "name": "stdout",
     "output_type": "stream",
     "text": [
      "ashwin raj\n"
     ]
    }
   ],
   "source": [
    "print(fullname)"
   ]
  },
  {
   "cell_type": "code",
   "execution_count": 21,
   "id": "969ebc21-f34c-4c72-81d6-e71d15de3da5",
   "metadata": {},
   "outputs": [
    {
     "name": "stdout",
     "output_type": "stream",
     "text": [
      "Ashwin Raj\n"
     ]
    }
   ],
   "source": [
    "print(fullname.title())"
   ]
  },
  {
   "cell_type": "code",
   "execution_count": 23,
   "id": "2b5f5ef1-d9fd-4cc5-b0aa-23d3135dddd4",
   "metadata": {},
   "outputs": [
    {
     "name": "stdout",
     "output_type": "stream",
     "text": [
      "ASHWIN RAJ\n"
     ]
    }
   ],
   "source": [
    "#req: I want the entire name ub capital\n",
    "print(fullname.upper())"
   ]
  },
  {
   "cell_type": "code",
   "execution_count": 25,
   "id": "2494793e-d2a8-4e14-936c-1e0796747f84",
   "metadata": {},
   "outputs": [
    {
     "name": "stdout",
     "output_type": "stream",
     "text": [
      "ashwin raj\n"
     ]
    }
   ],
   "source": [
    "#req: Entire name in small case letters\n",
    "print(fullname.lower())"
   ]
  },
  {
   "cell_type": "code",
   "execution_count": null,
   "id": "607a09e6-5adb-43de-a4da-50f0e009f8ba",
   "metadata": {},
   "outputs": [],
   "source": []
  }
 ],
 "metadata": {
  "kernelspec": {
   "display_name": "Python 3 (ipykernel)",
   "language": "python",
   "name": "python3"
  },
  "language_info": {
   "codemirror_mode": {
    "name": "ipython",
    "version": 3
   },
   "file_extension": ".py",
   "mimetype": "text/x-python",
   "name": "python",
   "nbconvert_exporter": "python",
   "pygments_lexer": "ipython3",
   "version": "3.12.4"
  }
 },
 "nbformat": 4,
 "nbformat_minor": 5
}
